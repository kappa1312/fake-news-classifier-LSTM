{
  "nbformat": 4,
  "nbformat_minor": 0,
  "metadata": {
    "colab": {
      "provenance": [],
      "gpuType": "T4"
    },
    "kernelspec": {
      "name": "python3",
      "display_name": "Python 3"
    },
    "language_info": {
      "name": "python"
    },
    "accelerator": "GPU"
  },
  "cells": [
    {
      "cell_type": "markdown",
      "source": [
        "### Steps and tips\n",
        "* Take sentences, apply one hot representation, pass through embedding layer, pass thorugh LSTM and then train the model to predict test data\n",
        "* pad_sequences - input to LSTM / Embedding layer we have to make sure to keep our size input length fixed so we have to add pad either in the start or end\n",
        "* one_hot - Convert sentences to one hot representation given a vocabulary size\n",
        "* vocabulary size = 5000\n",
        "* Onehot representation\n",
        "* reset_index - since we dropped NaN values\n",
        "* Data preprocessing - nltk, re, nltk.corpus - stopwords\n",
        "* Data preprocessing - nltk.stem.porter - PorterStemmer (stemming is done using these libraries)\n",
        "* re.sub('[^a-zA-Z]', ' ', messages['title'][i]) - we are substituting all the characters excep a-z and A-Z with a blank space\n",
        "* then lowering of the whole review and then split to remove the stopwords as they are not important\n",
        "* then all the text data is converted into one hot representation\n",
        "* Embedding representation\n",
        "* Before giving to embedding layer we will have to make the size of all inputs same, hence padding (pad_sequence)\n",
        "* embedding_vector_features = 40\n",
        "* Sequential - Embedding - LSTM - Dense (AF = sigmoid) - compile (binary_crossentropy, adam, accuracy)\n",
        "* embedded docs are converted into an array\n",
        "* train test split on X_final and y_final\n",
        "* Model training (sign of overfitting since val_accuracy was less than accuracy of training data), adding a dropout\n",
        "* performance metrics and accuracy\n",
        "* adding the dropout layer is just a kind of hyperparameter to increase accuracy"
      ],
      "metadata": {
        "id": "RZpMkml_EvBE"
      }
    },
    {
      "cell_type": "code",
      "source": [
        "! pip install kaggle"
      ],
      "metadata": {
        "colab": {
          "base_uri": "https://localhost:8080/"
        },
        "id": "_kTIQ2gbI2fo",
        "outputId": "5b88148a-1ed5-4629-891b-3593b0079bfa"
      },
      "execution_count": 1,
      "outputs": [
        {
          "output_type": "stream",
          "name": "stdout",
          "text": [
            "Requirement already satisfied: kaggle in /usr/local/lib/python3.10/dist-packages (1.5.16)\n",
            "Requirement already satisfied: six>=1.10 in /usr/local/lib/python3.10/dist-packages (from kaggle) (1.16.0)\n",
            "Requirement already satisfied: certifi in /usr/local/lib/python3.10/dist-packages (from kaggle) (2023.7.22)\n",
            "Requirement already satisfied: python-dateutil in /usr/local/lib/python3.10/dist-packages (from kaggle) (2.8.2)\n",
            "Requirement already satisfied: requests in /usr/local/lib/python3.10/dist-packages (from kaggle) (2.31.0)\n",
            "Requirement already satisfied: tqdm in /usr/local/lib/python3.10/dist-packages (from kaggle) (4.66.1)\n",
            "Requirement already satisfied: python-slugify in /usr/local/lib/python3.10/dist-packages (from kaggle) (8.0.1)\n",
            "Requirement already satisfied: urllib3 in /usr/local/lib/python3.10/dist-packages (from kaggle) (2.0.4)\n",
            "Requirement already satisfied: bleach in /usr/local/lib/python3.10/dist-packages (from kaggle) (6.0.0)\n",
            "Requirement already satisfied: webencodings in /usr/local/lib/python3.10/dist-packages (from bleach->kaggle) (0.5.1)\n",
            "Requirement already satisfied: text-unidecode>=1.3 in /usr/local/lib/python3.10/dist-packages (from python-slugify->kaggle) (1.3)\n",
            "Requirement already satisfied: charset-normalizer<4,>=2 in /usr/local/lib/python3.10/dist-packages (from requests->kaggle) (3.2.0)\n",
            "Requirement already satisfied: idna<4,>=2.5 in /usr/local/lib/python3.10/dist-packages (from requests->kaggle) (3.4)\n"
          ]
        }
      ]
    },
    {
      "cell_type": "code",
      "source": [
        "! mkdir ~/.kaggle"
      ],
      "metadata": {
        "id": "qjTEwPq7JpOi"
      },
      "execution_count": 2,
      "outputs": []
    },
    {
      "cell_type": "code",
      "source": [
        "! cp kaggle.json ~/.kaggle/"
      ],
      "metadata": {
        "id": "L1vxgxJtJq8g"
      },
      "execution_count": 3,
      "outputs": []
    },
    {
      "cell_type": "code",
      "source": [
        "! chmod 600 ~/.kaggle/kaggle.json"
      ],
      "metadata": {
        "id": "-0eUug5oJsav"
      },
      "execution_count": 4,
      "outputs": []
    },
    {
      "cell_type": "code",
      "source": [
        "! kaggle competitions download fake-news"
      ],
      "metadata": {
        "colab": {
          "base_uri": "https://localhost:8080/"
        },
        "id": "l9pZl-IwJuwv",
        "outputId": "0378c09b-e9ee-4c4a-aac2-4f7bc8e23058"
      },
      "execution_count": 5,
      "outputs": [
        {
          "output_type": "stream",
          "name": "stdout",
          "text": [
            "Downloading fake-news.zip to /content\n",
            " 97% 45.0M/46.5M [00:01<00:00, 40.8MB/s]\n",
            "100% 46.5M/46.5M [00:01<00:00, 28.5MB/s]\n"
          ]
        }
      ]
    },
    {
      "cell_type": "code",
      "source": [
        "! unzip fake-news.zip"
      ],
      "metadata": {
        "colab": {
          "base_uri": "https://localhost:8080/"
        },
        "id": "gu0CxZhcJ11F",
        "outputId": "57810ca1-ab0e-4aa8-f9fc-0491ac44e038"
      },
      "execution_count": 6,
      "outputs": [
        {
          "output_type": "stream",
          "name": "stdout",
          "text": [
            "Archive:  fake-news.zip\n",
            "  inflating: submit.csv              \n",
            "  inflating: test.csv                \n",
            "  inflating: train.csv               \n"
          ]
        }
      ]
    },
    {
      "cell_type": "code",
      "source": [
        "! ls"
      ],
      "metadata": {
        "colab": {
          "base_uri": "https://localhost:8080/"
        },
        "id": "N2B6pSXRKCrv",
        "outputId": "b5c10792-2799-45ec-9138-ccc7fbc48bf6"
      },
      "execution_count": 7,
      "outputs": [
        {
          "output_type": "stream",
          "name": "stdout",
          "text": [
            "fake-news.zip  kaggle.json  sample_data  submit.csv  test.csv  train.csv\n"
          ]
        }
      ]
    },
    {
      "cell_type": "markdown",
      "source": [
        "Main code starts below -"
      ],
      "metadata": {
        "id": "EB_A6sXfKO2S"
      }
    },
    {
      "cell_type": "code",
      "source": [
        "import pandas as pd"
      ],
      "metadata": {
        "id": "FoERhQWEKJqK"
      },
      "execution_count": 8,
      "outputs": []
    },
    {
      "cell_type": "code",
      "source": [
        "df = pd.read_csv('/content/train.csv')\n",
        "df.head()"
      ],
      "metadata": {
        "colab": {
          "base_uri": "https://localhost:8080/",
          "height": 206
        },
        "id": "1AQC74FOKRjL",
        "outputId": "00a80f61-d8de-41c4-800f-335cf7cc8e88"
      },
      "execution_count": 9,
      "outputs": [
        {
          "output_type": "execute_result",
          "data": {
            "text/plain": [
              "   id                                              title              author  \\\n",
              "0   0  House Dem Aide: We Didn’t Even See Comey’s Let...       Darrell Lucus   \n",
              "1   1  FLYNN: Hillary Clinton, Big Woman on Campus - ...     Daniel J. Flynn   \n",
              "2   2                  Why the Truth Might Get You Fired  Consortiumnews.com   \n",
              "3   3  15 Civilians Killed In Single US Airstrike Hav...     Jessica Purkiss   \n",
              "4   4  Iranian woman jailed for fictional unpublished...      Howard Portnoy   \n",
              "\n",
              "                                                text  label  \n",
              "0  House Dem Aide: We Didn’t Even See Comey’s Let...      1  \n",
              "1  Ever get the feeling your life circles the rou...      0  \n",
              "2  Why the Truth Might Get You Fired October 29, ...      1  \n",
              "3  Videos 15 Civilians Killed In Single US Airstr...      1  \n",
              "4  Print \\nAn Iranian woman has been sentenced to...      1  "
            ],
            "text/html": [
              "\n",
              "  <div id=\"df-e1d75018-241a-4d5b-b2e4-109171572561\" class=\"colab-df-container\">\n",
              "    <div>\n",
              "<style scoped>\n",
              "    .dataframe tbody tr th:only-of-type {\n",
              "        vertical-align: middle;\n",
              "    }\n",
              "\n",
              "    .dataframe tbody tr th {\n",
              "        vertical-align: top;\n",
              "    }\n",
              "\n",
              "    .dataframe thead th {\n",
              "        text-align: right;\n",
              "    }\n",
              "</style>\n",
              "<table border=\"1\" class=\"dataframe\">\n",
              "  <thead>\n",
              "    <tr style=\"text-align: right;\">\n",
              "      <th></th>\n",
              "      <th>id</th>\n",
              "      <th>title</th>\n",
              "      <th>author</th>\n",
              "      <th>text</th>\n",
              "      <th>label</th>\n",
              "    </tr>\n",
              "  </thead>\n",
              "  <tbody>\n",
              "    <tr>\n",
              "      <th>0</th>\n",
              "      <td>0</td>\n",
              "      <td>House Dem Aide: We Didn’t Even See Comey’s Let...</td>\n",
              "      <td>Darrell Lucus</td>\n",
              "      <td>House Dem Aide: We Didn’t Even See Comey’s Let...</td>\n",
              "      <td>1</td>\n",
              "    </tr>\n",
              "    <tr>\n",
              "      <th>1</th>\n",
              "      <td>1</td>\n",
              "      <td>FLYNN: Hillary Clinton, Big Woman on Campus - ...</td>\n",
              "      <td>Daniel J. Flynn</td>\n",
              "      <td>Ever get the feeling your life circles the rou...</td>\n",
              "      <td>0</td>\n",
              "    </tr>\n",
              "    <tr>\n",
              "      <th>2</th>\n",
              "      <td>2</td>\n",
              "      <td>Why the Truth Might Get You Fired</td>\n",
              "      <td>Consortiumnews.com</td>\n",
              "      <td>Why the Truth Might Get You Fired October 29, ...</td>\n",
              "      <td>1</td>\n",
              "    </tr>\n",
              "    <tr>\n",
              "      <th>3</th>\n",
              "      <td>3</td>\n",
              "      <td>15 Civilians Killed In Single US Airstrike Hav...</td>\n",
              "      <td>Jessica Purkiss</td>\n",
              "      <td>Videos 15 Civilians Killed In Single US Airstr...</td>\n",
              "      <td>1</td>\n",
              "    </tr>\n",
              "    <tr>\n",
              "      <th>4</th>\n",
              "      <td>4</td>\n",
              "      <td>Iranian woman jailed for fictional unpublished...</td>\n",
              "      <td>Howard Portnoy</td>\n",
              "      <td>Print \\nAn Iranian woman has been sentenced to...</td>\n",
              "      <td>1</td>\n",
              "    </tr>\n",
              "  </tbody>\n",
              "</table>\n",
              "</div>\n",
              "    <div class=\"colab-df-buttons\">\n",
              "      \n",
              "  <div class=\"colab-df-container\">\n",
              "    <button class=\"colab-df-convert\" onclick=\"convertToInteractive('df-e1d75018-241a-4d5b-b2e4-109171572561')\"\n",
              "            title=\"Convert this dataframe to an interactive table.\"\n",
              "            style=\"display:none;\">\n",
              "      \n",
              "  <svg xmlns=\"http://www.w3.org/2000/svg\" height=\"24px\" viewBox=\"0 -960 960 960\">\n",
              "    <path d=\"M120-120v-720h720v720H120Zm60-500h600v-160H180v160Zm220 220h160v-160H400v160Zm0 220h160v-160H400v160ZM180-400h160v-160H180v160Zm440 0h160v-160H620v160ZM180-180h160v-160H180v160Zm440 0h160v-160H620v160Z\"/>\n",
              "  </svg>\n",
              "    </button>\n",
              "    \n",
              "  <style>\n",
              "    .colab-df-container {\n",
              "      display:flex;\n",
              "      gap: 12px;\n",
              "    }\n",
              "\n",
              "    .colab-df-convert {\n",
              "      background-color: #E8F0FE;\n",
              "      border: none;\n",
              "      border-radius: 50%;\n",
              "      cursor: pointer;\n",
              "      display: none;\n",
              "      fill: #1967D2;\n",
              "      height: 32px;\n",
              "      padding: 0 0 0 0;\n",
              "      width: 32px;\n",
              "    }\n",
              "\n",
              "    .colab-df-convert:hover {\n",
              "      background-color: #E2EBFA;\n",
              "      box-shadow: 0px 1px 2px rgba(60, 64, 67, 0.3), 0px 1px 3px 1px rgba(60, 64, 67, 0.15);\n",
              "      fill: #174EA6;\n",
              "    }\n",
              "\n",
              "    .colab-df-buttons div {\n",
              "      margin-bottom: 4px;\n",
              "    }\n",
              "\n",
              "    [theme=dark] .colab-df-convert {\n",
              "      background-color: #3B4455;\n",
              "      fill: #D2E3FC;\n",
              "    }\n",
              "\n",
              "    [theme=dark] .colab-df-convert:hover {\n",
              "      background-color: #434B5C;\n",
              "      box-shadow: 0px 1px 3px 1px rgba(0, 0, 0, 0.15);\n",
              "      filter: drop-shadow(0px 1px 2px rgba(0, 0, 0, 0.3));\n",
              "      fill: #FFFFFF;\n",
              "    }\n",
              "  </style>\n",
              "\n",
              "    <script>\n",
              "      const buttonEl =\n",
              "        document.querySelector('#df-e1d75018-241a-4d5b-b2e4-109171572561 button.colab-df-convert');\n",
              "      buttonEl.style.display =\n",
              "        google.colab.kernel.accessAllowed ? 'block' : 'none';\n",
              "\n",
              "      async function convertToInteractive(key) {\n",
              "        const element = document.querySelector('#df-e1d75018-241a-4d5b-b2e4-109171572561');\n",
              "        const dataTable =\n",
              "          await google.colab.kernel.invokeFunction('convertToInteractive',\n",
              "                                                    [key], {});\n",
              "        if (!dataTable) return;\n",
              "\n",
              "        const docLinkHtml = 'Like what you see? Visit the ' +\n",
              "          '<a target=\"_blank\" href=https://colab.research.google.com/notebooks/data_table.ipynb>data table notebook</a>'\n",
              "          + ' to learn more about interactive tables.';\n",
              "        element.innerHTML = '';\n",
              "        dataTable['output_type'] = 'display_data';\n",
              "        await google.colab.output.renderOutput(dataTable, element);\n",
              "        const docLink = document.createElement('div');\n",
              "        docLink.innerHTML = docLinkHtml;\n",
              "        element.appendChild(docLink);\n",
              "      }\n",
              "    </script>\n",
              "  </div>\n",
              "  \n",
              "    </div>\n",
              "  </div>\n",
              "  "
            ]
          },
          "metadata": {},
          "execution_count": 9
        }
      ]
    },
    {
      "cell_type": "code",
      "source": [
        "# Droping null / NaN values if any\n",
        "df = df.dropna()"
      ],
      "metadata": {
        "id": "sq_lt7JWKVPk"
      },
      "execution_count": 10,
      "outputs": []
    },
    {
      "cell_type": "code",
      "source": [
        "# Extracting independent features\n",
        "X = df.drop('label', axis = 1)"
      ],
      "metadata": {
        "id": "M78i8GziKb1S"
      },
      "execution_count": 11,
      "outputs": []
    },
    {
      "cell_type": "code",
      "source": [
        "# Dependent features\n",
        "y = df['label']"
      ],
      "metadata": {
        "id": "A2oURJ9LKfvm"
      },
      "execution_count": 12,
      "outputs": []
    },
    {
      "cell_type": "code",
      "source": [
        "y.value_counts()"
      ],
      "metadata": {
        "colab": {
          "base_uri": "https://localhost:8080/"
        },
        "id": "JrD3iZzcx_FG",
        "outputId": "e1889831-4c72-4b1d-ebeb-0ec8ce77d3e2"
      },
      "execution_count": 13,
      "outputs": [
        {
          "output_type": "execute_result",
          "data": {
            "text/plain": [
              "0    10361\n",
              "1     7924\n",
              "Name: label, dtype: int64"
            ]
          },
          "metadata": {},
          "execution_count": 13
        }
      ]
    },
    {
      "cell_type": "code",
      "source": [
        "X.shape, y.shape"
      ],
      "metadata": {
        "colab": {
          "base_uri": "https://localhost:8080/"
        },
        "id": "HBsU2KSCKk-A",
        "outputId": "dd7f056b-9462-4843-beac-1a6bb16563c9"
      },
      "execution_count": 14,
      "outputs": [
        {
          "output_type": "execute_result",
          "data": {
            "text/plain": [
              "((18285, 4), (18285,))"
            ]
          },
          "metadata": {},
          "execution_count": 14
        }
      ]
    },
    {
      "cell_type": "code",
      "source": [
        "import tensorflow as tf\n",
        "tf.__version__"
      ],
      "metadata": {
        "colab": {
          "base_uri": "https://localhost:8080/",
          "height": 35
        },
        "id": "7beObXhNKmZt",
        "outputId": "4bbf1aeb-d4b5-4cb7-c5b2-a23027928b78"
      },
      "execution_count": 15,
      "outputs": [
        {
          "output_type": "execute_result",
          "data": {
            "text/plain": [
              "'2.12.0'"
            ],
            "application/vnd.google.colaboratory.intrinsic+json": {
              "type": "string"
            }
          },
          "metadata": {},
          "execution_count": 15
        }
      ]
    },
    {
      "cell_type": "code",
      "source": [
        "#importing all important libraries\n",
        "from tensorflow.keras.layers import Embedding\n",
        "from tensorflow.keras.preprocessing.sequence import pad_sequences\n",
        "from tensorflow.keras.models import Sequential\n",
        "from tensorflow.keras.preprocessing.text import one_hot\n",
        "from tensorflow.keras.layers import LSTM\n",
        "from tensorflow.keras.layers import Dense\n",
        "\n",
        "#Bidirectional\n",
        "from tensorflow.keras.layers import Bidirectional"
      ],
      "metadata": {
        "id": "Wc6VOwwYKqAU"
      },
      "execution_count": 16,
      "outputs": []
    },
    {
      "cell_type": "code",
      "source": [
        "voc_size  = 5000"
      ],
      "metadata": {
        "id": "8OUSsMi3K8Us"
      },
      "execution_count": 17,
      "outputs": []
    },
    {
      "cell_type": "markdown",
      "source": [
        "Onehot Representation"
      ],
      "metadata": {
        "id": "CYbjfYxeLJw3"
      }
    },
    {
      "cell_type": "code",
      "source": [
        "messages = X.copy()"
      ],
      "metadata": {
        "id": "W_w5gtcwLJOy"
      },
      "execution_count": 18,
      "outputs": []
    },
    {
      "cell_type": "code",
      "source": [
        "messages['title'][1]"
      ],
      "metadata": {
        "colab": {
          "base_uri": "https://localhost:8080/",
          "height": 35
        },
        "id": "wAVgr_uaLNRi",
        "outputId": "34f9b975-730f-4ce3-a416-cde42f23fd6f"
      },
      "execution_count": 19,
      "outputs": [
        {
          "output_type": "execute_result",
          "data": {
            "text/plain": [
              "'FLYNN: Hillary Clinton, Big Woman on Campus - Breitbart'"
            ],
            "application/vnd.google.colaboratory.intrinsic+json": {
              "type": "string"
            }
          },
          "metadata": {},
          "execution_count": 19
        }
      ]
    },
    {
      "cell_type": "code",
      "source": [
        "messages.reset_index(inplace = True)"
      ],
      "metadata": {
        "id": "Uwq7iSeDLO1s"
      },
      "execution_count": 20,
      "outputs": []
    },
    {
      "cell_type": "code",
      "source": [
        "import nltk\n",
        "import re\n",
        "from nltk.corpus import stopwords\n",
        "nltk.download('stopwords')"
      ],
      "metadata": {
        "colab": {
          "base_uri": "https://localhost:8080/"
        },
        "id": "fl78Q4yULRvB",
        "outputId": "3d271352-4e72-434b-f95e-d3ab6cf6db6c"
      },
      "execution_count": 21,
      "outputs": [
        {
          "output_type": "stream",
          "name": "stderr",
          "text": [
            "[nltk_data] Downloading package stopwords to /root/nltk_data...\n",
            "[nltk_data]   Unzipping corpora/stopwords.zip.\n"
          ]
        },
        {
          "output_type": "execute_result",
          "data": {
            "text/plain": [
              "True"
            ]
          },
          "metadata": {},
          "execution_count": 21
        }
      ]
    },
    {
      "cell_type": "markdown",
      "source": [
        "Data preprocessing"
      ],
      "metadata": {
        "id": "zxKV5VQwLbvb"
      }
    },
    {
      "cell_type": "code",
      "source": [
        "from nltk.stem.porter import PorterStemmer\n",
        "ps = PorterStemmer()\n",
        "corpus = []\n",
        "for i in range(0, len(messages)):\n",
        "  review = re.sub('[^a-zA-Z]', ' ', messages['title'][i])\n",
        "  review = review.lower()\n",
        "  review = review.split()\n",
        "\n",
        "  review = [ps.stem(word) for word in review if not word in stopwords.words('english')]\n",
        "  review = ' '.join(review)\n",
        "  corpus.append(review)"
      ],
      "metadata": {
        "id": "W1dKBtgHLYiV"
      },
      "execution_count": 22,
      "outputs": []
    },
    {
      "cell_type": "code",
      "source": [
        "corpus[0:5]"
      ],
      "metadata": {
        "colab": {
          "base_uri": "https://localhost:8080/"
        },
        "id": "tcxneMSSL5tK",
        "outputId": "5ba4f320-a1b3-4f6c-8247-df3e2470b0cf"
      },
      "execution_count": 23,
      "outputs": [
        {
          "output_type": "execute_result",
          "data": {
            "text/plain": [
              "['hous dem aid even see comey letter jason chaffetz tweet',\n",
              " 'flynn hillari clinton big woman campu breitbart',\n",
              " 'truth might get fire',\n",
              " 'civilian kill singl us airstrik identifi',\n",
              " 'iranian woman jail fiction unpublish stori woman stone death adulteri']"
            ]
          },
          "metadata": {},
          "execution_count": 23
        }
      ]
    },
    {
      "cell_type": "code",
      "source": [
        "onehot_repr = [one_hot(words, voc_size) for words in corpus]\n",
        "onehot_repr[0:5]"
      ],
      "metadata": {
        "colab": {
          "base_uri": "https://localhost:8080/"
        },
        "id": "a1V7e78eMFT-",
        "outputId": "b7138762-39a2-4c8f-d584-339ca9fbc374"
      },
      "execution_count": 24,
      "outputs": [
        {
          "output_type": "execute_result",
          "data": {
            "text/plain": [
              "[[2995, 2593, 849, 1876, 3125, 1239, 1950, 4118, 3168, 961],\n",
              " [3736, 3847, 946, 2083, 983, 4385, 160],\n",
              " [2200, 3944, 2933, 249],\n",
              " [4119, 4577, 4338, 419, 137, 4071],\n",
              " [4672, 983, 2991, 2342, 1665, 272, 983, 435, 304, 4404]]"
            ]
          },
          "metadata": {},
          "execution_count": 24
        }
      ]
    },
    {
      "cell_type": "markdown",
      "source": [
        "Embedding representation"
      ],
      "metadata": {
        "id": "7VkF-bBdMdBN"
      }
    },
    {
      "cell_type": "code",
      "source": [
        "sent_length = 20\n",
        "embedded_docs = pad_sequences(onehot_repr, padding = 'pre', maxlen = sent_length)\n",
        "embedded_docs[0:5]"
      ],
      "metadata": {
        "colab": {
          "base_uri": "https://localhost:8080/"
        },
        "id": "oT5xckJzMYtP",
        "outputId": "50cc80dc-79a6-4d09-b465-04d65a7a7ab6"
      },
      "execution_count": 25,
      "outputs": [
        {
          "output_type": "execute_result",
          "data": {
            "text/plain": [
              "array([[   0,    0,    0,    0,    0,    0,    0,    0,    0,    0, 2995,\n",
              "        2593,  849, 1876, 3125, 1239, 1950, 4118, 3168,  961],\n",
              "       [   0,    0,    0,    0,    0,    0,    0,    0,    0,    0,    0,\n",
              "           0,    0, 3736, 3847,  946, 2083,  983, 4385,  160],\n",
              "       [   0,    0,    0,    0,    0,    0,    0,    0,    0,    0,    0,\n",
              "           0,    0,    0,    0,    0, 2200, 3944, 2933,  249],\n",
              "       [   0,    0,    0,    0,    0,    0,    0,    0,    0,    0,    0,\n",
              "           0,    0,    0, 4119, 4577, 4338,  419,  137, 4071],\n",
              "       [   0,    0,    0,    0,    0,    0,    0,    0,    0,    0, 4672,\n",
              "         983, 2991, 2342, 1665,  272,  983,  435,  304, 4404]],\n",
              "      dtype=int32)"
            ]
          },
          "metadata": {},
          "execution_count": 25
        }
      ]
    },
    {
      "cell_type": "code",
      "source": [
        "embedded_docs[0]"
      ],
      "metadata": {
        "colab": {
          "base_uri": "https://localhost:8080/"
        },
        "id": "RiaoGMamMoGj",
        "outputId": "4f2432b6-318f-4c65-d4c8-b0753d1a5997"
      },
      "execution_count": 26,
      "outputs": [
        {
          "output_type": "execute_result",
          "data": {
            "text/plain": [
              "array([   0,    0,    0,    0,    0,    0,    0,    0,    0,    0, 2995,\n",
              "       2593,  849, 1876, 3125, 1239, 1950, 4118, 3168,  961], dtype=int32)"
            ]
          },
          "metadata": {},
          "execution_count": 26
        }
      ]
    },
    {
      "cell_type": "markdown",
      "source": [
        "Model creation"
      ],
      "metadata": {
        "id": "TTgLzJscMtPZ"
      }
    },
    {
      "cell_type": "code",
      "source": [
        "embedding_vector_features = 40\n",
        "model = Sequential()\n",
        "model.add(Embedding(voc_size, embedding_vector_features, input_length = sent_length))\n",
        "model.add(LSTM(100))\n",
        "model.add(Dense(1, activation = 'sigmoid'))\n",
        "model.compile(loss = 'binary_crossentropy', optimizer = 'adam', metrics = ['accuracy'])\n",
        "model.summary()"
      ],
      "metadata": {
        "colab": {
          "base_uri": "https://localhost:8080/"
        },
        "id": "-ZWc_tr0MtLF",
        "outputId": "8b3308d8-4aaf-49f6-d0a9-e4f808525ca3"
      },
      "execution_count": 27,
      "outputs": [
        {
          "output_type": "stream",
          "name": "stdout",
          "text": [
            "Model: \"sequential\"\n",
            "_________________________________________________________________\n",
            " Layer (type)                Output Shape              Param #   \n",
            "=================================================================\n",
            " embedding (Embedding)       (None, 20, 40)            200000    \n",
            "                                                                 \n",
            " lstm (LSTM)                 (None, 100)               56400     \n",
            "                                                                 \n",
            " dense (Dense)               (None, 1)                 101       \n",
            "                                                                 \n",
            "=================================================================\n",
            "Total params: 256,501\n",
            "Trainable params: 256,501\n",
            "Non-trainable params: 0\n",
            "_________________________________________________________________\n"
          ]
        }
      ]
    },
    {
      "cell_type": "code",
      "source": [
        "len(embedded_docs)"
      ],
      "metadata": {
        "colab": {
          "base_uri": "https://localhost:8080/"
        },
        "id": "RXMUtnk8NEFh",
        "outputId": "04ba9a16-bba4-40dc-91ea-78b963f9e46f"
      },
      "execution_count": 28,
      "outputs": [
        {
          "output_type": "execute_result",
          "data": {
            "text/plain": [
              "18285"
            ]
          },
          "metadata": {},
          "execution_count": 28
        }
      ]
    },
    {
      "cell_type": "code",
      "source": [
        "y.shape"
      ],
      "metadata": {
        "colab": {
          "base_uri": "https://localhost:8080/"
        },
        "id": "6UlvG8a1NIeU",
        "outputId": "a5f330b1-9109-42e4-dacc-093868a93eba"
      },
      "execution_count": 29,
      "outputs": [
        {
          "output_type": "execute_result",
          "data": {
            "text/plain": [
              "(18285,)"
            ]
          },
          "metadata": {},
          "execution_count": 29
        }
      ]
    },
    {
      "cell_type": "code",
      "source": [
        "import numpy as np\n",
        "X_final = np.array(embedded_docs)\n",
        "y_final = np.array(y)"
      ],
      "metadata": {
        "id": "73GKLHKVNJiQ"
      },
      "execution_count": 30,
      "outputs": []
    },
    {
      "cell_type": "code",
      "source": [
        "X_final.shape, y_final.shape"
      ],
      "metadata": {
        "colab": {
          "base_uri": "https://localhost:8080/"
        },
        "id": "rWyhxZ9KNQ44",
        "outputId": "e0afabd0-ffe8-4e39-a821-c9af5df0cfc5"
      },
      "execution_count": 31,
      "outputs": [
        {
          "output_type": "execute_result",
          "data": {
            "text/plain": [
              "((18285, 20), (18285,))"
            ]
          },
          "metadata": {},
          "execution_count": 31
        }
      ]
    },
    {
      "cell_type": "code",
      "source": [
        "from sklearn.model_selection import train_test_split\n",
        "X_train, X_test, y_train, y_test = train_test_split(X_final, y_final, test_size=0.33, random_state=42)"
      ],
      "metadata": {
        "id": "mIXeOUHONUwP"
      },
      "execution_count": 32,
      "outputs": []
    },
    {
      "cell_type": "markdown",
      "source": [
        "Model training"
      ],
      "metadata": {
        "id": "Id3Ks7tdNYYJ"
      }
    },
    {
      "cell_type": "code",
      "source": [
        "model.fit(X_train, y_train, validation_data = (X_test, y_test), epochs = 10, batch_size = 64)"
      ],
      "metadata": {
        "colab": {
          "base_uri": "https://localhost:8080/"
        },
        "id": "aHOBVhTENXyA",
        "outputId": "02a22242-0b9b-4b9d-f463-b8bd62e9ac2a"
      },
      "execution_count": 33,
      "outputs": [
        {
          "output_type": "stream",
          "name": "stdout",
          "text": [
            "Epoch 1/10\n",
            "192/192 [==============================] - 24s 86ms/step - loss: 0.3460 - accuracy: 0.8500 - val_loss: 0.1959 - val_accuracy: 0.9155\n",
            "Epoch 2/10\n",
            "192/192 [==============================] - 3s 18ms/step - loss: 0.1477 - accuracy: 0.9440 - val_loss: 0.2146 - val_accuracy: 0.9167\n",
            "Epoch 3/10\n",
            "192/192 [==============================] - 3s 14ms/step - loss: 0.1047 - accuracy: 0.9611 - val_loss: 0.2321 - val_accuracy: 0.9099\n",
            "Epoch 4/10\n",
            "192/192 [==============================] - 3s 14ms/step - loss: 0.0757 - accuracy: 0.9731 - val_loss: 0.2471 - val_accuracy: 0.9130\n",
            "Epoch 5/10\n",
            "192/192 [==============================] - 2s 10ms/step - loss: 0.0569 - accuracy: 0.9809 - val_loss: 0.2592 - val_accuracy: 0.9007\n",
            "Epoch 6/10\n",
            "192/192 [==============================] - 2s 9ms/step - loss: 0.0315 - accuracy: 0.9899 - val_loss: 0.3984 - val_accuracy: 0.9059\n",
            "Epoch 7/10\n",
            "192/192 [==============================] - 2s 9ms/step - loss: 0.0213 - accuracy: 0.9935 - val_loss: 0.3855 - val_accuracy: 0.9128\n",
            "Epoch 8/10\n",
            "192/192 [==============================] - 2s 9ms/step - loss: 0.0134 - accuracy: 0.9961 - val_loss: 0.4976 - val_accuracy: 0.9104\n",
            "Epoch 9/10\n",
            "192/192 [==============================] - 2s 11ms/step - loss: 0.0087 - accuracy: 0.9977 - val_loss: 0.5331 - val_accuracy: 0.9117\n",
            "Epoch 10/10\n",
            "192/192 [==============================] - 2s 11ms/step - loss: 0.0050 - accuracy: 0.9986 - val_loss: 0.5849 - val_accuracy: 0.9082\n"
          ]
        },
        {
          "output_type": "execute_result",
          "data": {
            "text/plain": [
              "<keras.callbacks.History at 0x7c5cd057f0d0>"
            ]
          },
          "metadata": {},
          "execution_count": 33
        }
      ]
    },
    {
      "cell_type": "markdown",
      "source": [
        "Performance and Accuracy"
      ],
      "metadata": {
        "id": "69rf_1boN_FJ"
      }
    },
    {
      "cell_type": "code",
      "source": [
        "#y_pred = model.predict_classes(X_test)\n",
        "y_pred = (model.predict(X_test) > 0.5).astype(\"int32\")"
      ],
      "metadata": {
        "colab": {
          "base_uri": "https://localhost:8080/"
        },
        "id": "4LxvIsoSNfHD",
        "outputId": "652566f8-090a-4699-d221-80cdc2526f17"
      },
      "execution_count": 34,
      "outputs": [
        {
          "output_type": "stream",
          "name": "stdout",
          "text": [
            "189/189 [==============================] - 1s 2ms/step\n"
          ]
        }
      ]
    },
    {
      "cell_type": "code",
      "source": [
        "from sklearn.metrics import confusion_matrix\n",
        "confusion_matrix(y_test, y_pred)"
      ],
      "metadata": {
        "colab": {
          "base_uri": "https://localhost:8080/"
        },
        "id": "SYOMXbqvOG59",
        "outputId": "69088cde-dd80-4c6d-bc3e-3a93ab506746"
      },
      "execution_count": 35,
      "outputs": [
        {
          "output_type": "execute_result",
          "data": {
            "text/plain": [
              "array([[3119,  300],\n",
              "       [ 254, 2362]])"
            ]
          },
          "metadata": {},
          "execution_count": 35
        }
      ]
    },
    {
      "cell_type": "code",
      "source": [
        "from sklearn.metrics import accuracy_score\n",
        "accuracy_score(y_test, y_pred)"
      ],
      "metadata": {
        "colab": {
          "base_uri": "https://localhost:8080/"
        },
        "id": "tUNfqNBCOMeh",
        "outputId": "95c79dbe-72b0-40bb-9eaf-c5c6a5d5eecd"
      },
      "execution_count": 36,
      "outputs": [
        {
          "output_type": "execute_result",
          "data": {
            "text/plain": [
              "0.9082021541010771"
            ]
          },
          "metadata": {},
          "execution_count": 36
        }
      ]
    },
    {
      "cell_type": "markdown",
      "source": [
        "Since we are able to see a bit of overfitting hence we will add a Dropout layer"
      ],
      "metadata": {
        "id": "U7WQCZrzOSKD"
      }
    },
    {
      "cell_type": "code",
      "source": [
        "from tensorflow.keras.layers import Dropout\n",
        "embedding_vector_features = 40\n",
        "model=Sequential()\n",
        "model.add(Embedding(voc_size, embedding_vector_features, input_length=sent_length))\n",
        "model.add(Dropout(0.2))\n",
        "model.add(LSTM(100))\n",
        "model.add(Dropout(0.2))\n",
        "model.add(Dense(1, activation = 'sigmoid'))\n",
        "model.compile(loss='binary_crossentropy', optimizer='adam', metrics=['accuracy'])\n",
        "\n",
        "model.fit(X_train, y_train, validation_data = (X_test, y_test), epochs = 10, batch_size = 64)"
      ],
      "metadata": {
        "colab": {
          "base_uri": "https://localhost:8080/"
        },
        "id": "fnOUWyfJOVrl",
        "outputId": "d8c7b068-597e-4f4e-9ec1-9aa78516c188"
      },
      "execution_count": 37,
      "outputs": [
        {
          "output_type": "stream",
          "name": "stdout",
          "text": [
            "Epoch 1/10\n",
            "192/192 [==============================] - 14s 63ms/step - loss: 0.3437 - accuracy: 0.8371 - val_loss: 0.2010 - val_accuracy: 0.9168\n",
            "Epoch 2/10\n",
            "192/192 [==============================] - 3s 15ms/step - loss: 0.1507 - accuracy: 0.9400 - val_loss: 0.2220 - val_accuracy: 0.9185\n",
            "Epoch 3/10\n",
            "192/192 [==============================] - 2s 13ms/step - loss: 0.1091 - accuracy: 0.9582 - val_loss: 0.2153 - val_accuracy: 0.9130\n",
            "Epoch 4/10\n",
            "192/192 [==============================] - 4s 23ms/step - loss: 0.0837 - accuracy: 0.9692 - val_loss: 0.2465 - val_accuracy: 0.9133\n",
            "Epoch 5/10\n",
            "192/192 [==============================] - 2s 11ms/step - loss: 0.0585 - accuracy: 0.9793 - val_loss: 0.3219 - val_accuracy: 0.9054\n",
            "Epoch 6/10\n",
            "192/192 [==============================] - 2s 9ms/step - loss: 0.0433 - accuracy: 0.9855 - val_loss: 0.3291 - val_accuracy: 0.9148\n",
            "Epoch 7/10\n",
            "192/192 [==============================] - 2s 10ms/step - loss: 0.0294 - accuracy: 0.9903 - val_loss: 0.3793 - val_accuracy: 0.9089\n",
            "Epoch 8/10\n",
            "192/192 [==============================] - 2s 8ms/step - loss: 0.0218 - accuracy: 0.9926 - val_loss: 0.4214 - val_accuracy: 0.9110\n",
            "Epoch 9/10\n",
            "192/192 [==============================] - 2s 11ms/step - loss: 0.0131 - accuracy: 0.9958 - val_loss: 0.4787 - val_accuracy: 0.9109\n",
            "Epoch 10/10\n",
            "192/192 [==============================] - 5s 26ms/step - loss: 0.0137 - accuracy: 0.9956 - val_loss: 0.4812 - val_accuracy: 0.9102\n"
          ]
        },
        {
          "output_type": "execute_result",
          "data": {
            "text/plain": [
              "<keras.callbacks.History at 0x7c5cbc3dba90>"
            ]
          },
          "metadata": {},
          "execution_count": 37
        }
      ]
    },
    {
      "cell_type": "code",
      "source": [
        "#y_pred = model.predict_classes(y_test)\n",
        "y_pred = (model.predict(X_test) > 0.5).astype(\"int32\")"
      ],
      "metadata": {
        "colab": {
          "base_uri": "https://localhost:8080/"
        },
        "id": "QmZD9nQtOhr3",
        "outputId": "33f625a2-8410-49f2-cfdf-8ba832d4f812"
      },
      "execution_count": 38,
      "outputs": [
        {
          "output_type": "stream",
          "name": "stdout",
          "text": [
            "189/189 [==============================] - 1s 4ms/step\n"
          ]
        }
      ]
    },
    {
      "cell_type": "code",
      "source": [
        "confusion_matrix(y_test, y_pred)"
      ],
      "metadata": {
        "colab": {
          "base_uri": "https://localhost:8080/"
        },
        "id": "GgNYauoTOk65",
        "outputId": "654d3902-3ba7-4d40-e69f-51f8650367c2"
      },
      "execution_count": 39,
      "outputs": [
        {
          "output_type": "execute_result",
          "data": {
            "text/plain": [
              "array([[3108,  311],\n",
              "       [ 231, 2385]])"
            ]
          },
          "metadata": {},
          "execution_count": 39
        }
      ]
    },
    {
      "cell_type": "code",
      "source": [
        "accuracy_score(y_test, y_pred)"
      ],
      "metadata": {
        "colab": {
          "base_uri": "https://localhost:8080/"
        },
        "id": "pTgXhRk-OmD4",
        "outputId": "d9a6587a-3ee7-4b18-f13f-f02e97b89f3a"
      },
      "execution_count": 40,
      "outputs": [
        {
          "output_type": "execute_result",
          "data": {
            "text/plain": [
              "0.9101905550952776"
            ]
          },
          "metadata": {},
          "execution_count": 40
        }
      ]
    },
    {
      "cell_type": "code",
      "source": [
        "#Bidirectional Model\n",
        "\n",
        "embedding_vector_features = 40\n",
        "model1 = Sequential()\n",
        "model1.add(Embedding(voc_size, embedding_vector_features, input_length = sent_length))\n",
        "model1.add(Bidirectional(LSTM(100)))\n",
        "model1.add(Dense(1, activation = 'sigmoid'))\n",
        "model1.compile(loss = 'binary_crossentropy', optimizer = 'adam', metrics = ['accuracy'])\n",
        "print(model1.summary())"
      ],
      "metadata": {
        "colab": {
          "base_uri": "https://localhost:8080/"
        },
        "id": "B1KFgA3ny5Jg",
        "outputId": "2065b86b-6e0b-4896-ab7f-e23d750f2947"
      },
      "execution_count": 41,
      "outputs": [
        {
          "output_type": "stream",
          "name": "stdout",
          "text": [
            "Model: \"sequential_2\"\n",
            "_________________________________________________________________\n",
            " Layer (type)                Output Shape              Param #   \n",
            "=================================================================\n",
            " embedding_2 (Embedding)     (None, 20, 40)            200000    \n",
            "                                                                 \n",
            " bidirectional (Bidirectiona  (None, 200)              112800    \n",
            " l)                                                              \n",
            "                                                                 \n",
            " dense_2 (Dense)             (None, 1)                 201       \n",
            "                                                                 \n",
            "=================================================================\n",
            "Total params: 313,001\n",
            "Trainable params: 313,001\n",
            "Non-trainable params: 0\n",
            "_________________________________________________________________\n",
            "None\n"
          ]
        }
      ]
    },
    {
      "cell_type": "code",
      "source": [
        "X_final.shape, y_final.shape"
      ],
      "metadata": {
        "colab": {
          "base_uri": "https://localhost:8080/"
        },
        "id": "fj68sxnZzWp1",
        "outputId": "b667d717-bfc6-4225-defa-80c049f4812d"
      },
      "execution_count": 42,
      "outputs": [
        {
          "output_type": "execute_result",
          "data": {
            "text/plain": [
              "((18285, 20), (18285,))"
            ]
          },
          "metadata": {},
          "execution_count": 42
        }
      ]
    },
    {
      "cell_type": "code",
      "source": [
        "model1.fit(X_train, y_train, validation_data = (X_test, y_test), epochs = 10, batch_size = 64)"
      ],
      "metadata": {
        "colab": {
          "base_uri": "https://localhost:8080/"
        },
        "id": "JwZDHSwZzh9b",
        "outputId": "3071461f-3778-4b30-c0ef-7843e7b12ce4"
      },
      "execution_count": 43,
      "outputs": [
        {
          "output_type": "stream",
          "name": "stdout",
          "text": [
            "Epoch 1/10\n",
            "192/192 [==============================] - 16s 64ms/step - loss: 0.2975 - accuracy: 0.8639 - val_loss: 0.2028 - val_accuracy: 0.9157\n",
            "Epoch 2/10\n",
            "192/192 [==============================] - 4s 23ms/step - loss: 0.1433 - accuracy: 0.9457 - val_loss: 0.2135 - val_accuracy: 0.9176\n",
            "Epoch 3/10\n",
            "192/192 [==============================] - 2s 13ms/step - loss: 0.1030 - accuracy: 0.9637 - val_loss: 0.2480 - val_accuracy: 0.9112\n",
            "Epoch 4/10\n",
            "192/192 [==============================] - 3s 13ms/step - loss: 0.0731 - accuracy: 0.9733 - val_loss: 0.3082 - val_accuracy: 0.9128\n",
            "Epoch 5/10\n",
            "192/192 [==============================] - 2s 12ms/step - loss: 0.0487 - accuracy: 0.9846 - val_loss: 0.3367 - val_accuracy: 0.9099\n",
            "Epoch 6/10\n",
            "192/192 [==============================] - 3s 14ms/step - loss: 0.0301 - accuracy: 0.9909 - val_loss: 0.4777 - val_accuracy: 0.9077\n",
            "Epoch 7/10\n",
            "192/192 [==============================] - 2s 12ms/step - loss: 0.0190 - accuracy: 0.9938 - val_loss: 0.4639 - val_accuracy: 0.9022\n",
            "Epoch 8/10\n",
            "192/192 [==============================] - 2s 11ms/step - loss: 0.0111 - accuracy: 0.9971 - val_loss: 0.5218 - val_accuracy: 0.9031\n",
            "Epoch 9/10\n",
            "192/192 [==============================] - 2s 11ms/step - loss: 0.0135 - accuracy: 0.9951 - val_loss: 0.5421 - val_accuracy: 0.9052\n",
            "Epoch 10/10\n",
            "192/192 [==============================] - 2s 11ms/step - loss: 0.0122 - accuracy: 0.9962 - val_loss: 0.5836 - val_accuracy: 0.9021\n"
          ]
        },
        {
          "output_type": "execute_result",
          "data": {
            "text/plain": [
              "<keras.callbacks.History at 0x7c5c76124550>"
            ]
          },
          "metadata": {},
          "execution_count": 43
        }
      ]
    },
    {
      "cell_type": "code",
      "source": [
        "y_pred1 = (model1.predict(X_test) > 0.5).astype(\"int32\")"
      ],
      "metadata": {
        "colab": {
          "base_uri": "https://localhost:8080/"
        },
        "id": "hgyIO_R0ztOO",
        "outputId": "658da68e-ce96-49a5-f579-783ac4298063"
      },
      "execution_count": 44,
      "outputs": [
        {
          "output_type": "stream",
          "name": "stdout",
          "text": [
            "189/189 [==============================] - 1s 3ms/step\n"
          ]
        }
      ]
    },
    {
      "cell_type": "code",
      "source": [
        "confusion_matrix(y_test, y_pred1)"
      ],
      "metadata": {
        "colab": {
          "base_uri": "https://localhost:8080/"
        },
        "id": "2qf_YoQE0A2y",
        "outputId": "e4a8b6e7-e912-460b-ced9-86396b28c9d3"
      },
      "execution_count": 45,
      "outputs": [
        {
          "output_type": "execute_result",
          "data": {
            "text/plain": [
              "array([[3106,  313],\n",
              "       [ 278, 2338]])"
            ]
          },
          "metadata": {},
          "execution_count": 45
        }
      ]
    },
    {
      "cell_type": "code",
      "source": [
        "accuracy_score(y_test, y_pred1)"
      ],
      "metadata": {
        "colab": {
          "base_uri": "https://localhost:8080/"
        },
        "id": "CNpsy0BR0GLQ",
        "outputId": "f52681bc-3c17-43c6-cedf-7fcaaa70d2ad"
      },
      "execution_count": 46,
      "outputs": [
        {
          "output_type": "execute_result",
          "data": {
            "text/plain": [
              "0.9020712510356255"
            ]
          },
          "metadata": {},
          "execution_count": 46
        }
      ]
    },
    {
      "cell_type": "code",
      "source": [
        "#Bidirectional and dropout\n",
        "\n",
        "embedding_vector_features = 40\n",
        "model1=Sequential()\n",
        "model1.add(Embedding(voc_size, embedding_vector_features, input_length=sent_length))\n",
        "model1.add(Dropout(0.2))\n",
        "model1.add(Bidirectional(LSTM(100)))\n",
        "model1.add(Dropout(0.2))\n",
        "model1.add(Dense(1, activation = 'sigmoid'))\n",
        "model1.compile(loss='binary_crossentropy', optimizer='adam', metrics=['accuracy'])\n",
        "\n",
        "model.fit(X_train, y_train, validation_data = (X_test, y_test), epochs = 10, batch_size = 64)"
      ],
      "metadata": {
        "colab": {
          "base_uri": "https://localhost:8080/"
        },
        "id": "948M9b670P3y",
        "outputId": "db14d853-650b-4994-b1e9-66f35cd76a2c"
      },
      "execution_count": 47,
      "outputs": [
        {
          "output_type": "stream",
          "name": "stdout",
          "text": [
            "Epoch 1/10\n",
            "192/192 [==============================] - 2s 8ms/step - loss: 0.0103 - accuracy: 0.9964 - val_loss: 0.5175 - val_accuracy: 0.9123\n",
            "Epoch 2/10\n",
            "192/192 [==============================] - 2s 9ms/step - loss: 0.0108 - accuracy: 0.9962 - val_loss: 0.5693 - val_accuracy: 0.9125\n",
            "Epoch 3/10\n",
            "192/192 [==============================] - 2s 8ms/step - loss: 0.0061 - accuracy: 0.9982 - val_loss: 0.6308 - val_accuracy: 0.9115\n",
            "Epoch 4/10\n",
            "192/192 [==============================] - 2s 10ms/step - loss: 0.0071 - accuracy: 0.9975 - val_loss: 0.5910 - val_accuracy: 0.9075\n",
            "Epoch 5/10\n",
            "192/192 [==============================] - 2s 12ms/step - loss: 0.0059 - accuracy: 0.9980 - val_loss: 0.6321 - val_accuracy: 0.9095\n",
            "Epoch 6/10\n",
            "192/192 [==============================] - 2s 9ms/step - loss: 0.0082 - accuracy: 0.9976 - val_loss: 0.5900 - val_accuracy: 0.9095\n",
            "Epoch 7/10\n",
            "192/192 [==============================] - 2s 9ms/step - loss: 0.0062 - accuracy: 0.9979 - val_loss: 0.5608 - val_accuracy: 0.9090\n",
            "Epoch 8/10\n",
            "192/192 [==============================] - 2s 9ms/step - loss: 0.0059 - accuracy: 0.9982 - val_loss: 0.6808 - val_accuracy: 0.9051\n",
            "Epoch 9/10\n",
            "192/192 [==============================] - 2s 8ms/step - loss: 0.0053 - accuracy: 0.9982 - val_loss: 0.6768 - val_accuracy: 0.9070\n",
            "Epoch 10/10\n",
            "192/192 [==============================] - 2s 8ms/step - loss: 0.0050 - accuracy: 0.9987 - val_loss: 0.6727 - val_accuracy: 0.9090\n"
          ]
        },
        {
          "output_type": "execute_result",
          "data": {
            "text/plain": [
              "<keras.callbacks.History at 0x7c5c50212aa0>"
            ]
          },
          "metadata": {},
          "execution_count": 47
        }
      ]
    },
    {
      "cell_type": "code",
      "source": [
        "model1.fit(X_train, y_train, validation_data = (X_test, y_test), epochs = 10, batch_size = 64)"
      ],
      "metadata": {
        "colab": {
          "base_uri": "https://localhost:8080/"
        },
        "outputId": "ead25b0f-fb32-4a2d-f29e-4508a363e796",
        "id": "PxLh7A_M0aZo"
      },
      "execution_count": 48,
      "outputs": [
        {
          "output_type": "stream",
          "name": "stdout",
          "text": [
            "Epoch 1/10\n",
            "192/192 [==============================] - 16s 64ms/step - loss: 0.3045 - accuracy: 0.8582 - val_loss: 0.2094 - val_accuracy: 0.9117\n",
            "Epoch 2/10\n",
            "192/192 [==============================] - 4s 19ms/step - loss: 0.1506 - accuracy: 0.9414 - val_loss: 0.1968 - val_accuracy: 0.9188\n",
            "Epoch 3/10\n",
            "192/192 [==============================] - 4s 20ms/step - loss: 0.1043 - accuracy: 0.9621 - val_loss: 0.2316 - val_accuracy: 0.9185\n",
            "Epoch 4/10\n",
            "192/192 [==============================] - 3s 14ms/step - loss: 0.0736 - accuracy: 0.9739 - val_loss: 0.2584 - val_accuracy: 0.9143\n",
            "Epoch 5/10\n",
            "192/192 [==============================] - 2s 13ms/step - loss: 0.0491 - accuracy: 0.9832 - val_loss: 0.3087 - val_accuracy: 0.9133\n",
            "Epoch 6/10\n",
            "192/192 [==============================] - 2s 12ms/step - loss: 0.0378 - accuracy: 0.9866 - val_loss: 0.3553 - val_accuracy: 0.9047\n",
            "Epoch 7/10\n",
            "192/192 [==============================] - 2s 11ms/step - loss: 0.0285 - accuracy: 0.9905 - val_loss: 0.4417 - val_accuracy: 0.9120\n",
            "Epoch 8/10\n",
            "192/192 [==============================] - 3s 14ms/step - loss: 0.0204 - accuracy: 0.9930 - val_loss: 0.4321 - val_accuracy: 0.9080\n",
            "Epoch 9/10\n",
            "192/192 [==============================] - 2s 12ms/step - loss: 0.0231 - accuracy: 0.9912 - val_loss: 0.4379 - val_accuracy: 0.9059\n",
            "Epoch 10/10\n",
            "192/192 [==============================] - 2s 12ms/step - loss: 0.0165 - accuracy: 0.9944 - val_loss: 0.4485 - val_accuracy: 0.9085\n"
          ]
        },
        {
          "output_type": "execute_result",
          "data": {
            "text/plain": [
              "<keras.callbacks.History at 0x7c5c50242140>"
            ]
          },
          "metadata": {},
          "execution_count": 48
        }
      ]
    },
    {
      "cell_type": "code",
      "source": [
        "y_pred1 = (model1.predict(X_test) > 0.5).astype(\"int32\")"
      ],
      "metadata": {
        "colab": {
          "base_uri": "https://localhost:8080/"
        },
        "outputId": "3c699bd2-6b00-4790-bd72-0ba36350e090",
        "id": "apYpXJVW0aZp"
      },
      "execution_count": 49,
      "outputs": [
        {
          "output_type": "stream",
          "name": "stdout",
          "text": [
            "189/189 [==============================] - 1s 3ms/step\n"
          ]
        }
      ]
    },
    {
      "cell_type": "code",
      "source": [
        "confusion_matrix(y_test, y_pred1)"
      ],
      "metadata": {
        "colab": {
          "base_uri": "https://localhost:8080/"
        },
        "outputId": "5c97b6da-0155-4c35-fc51-b707b28e26a3",
        "id": "YVIjTX0v0aZp"
      },
      "execution_count": 50,
      "outputs": [
        {
          "output_type": "execute_result",
          "data": {
            "text/plain": [
              "array([[3094,  325],\n",
              "       [ 227, 2389]])"
            ]
          },
          "metadata": {},
          "execution_count": 50
        }
      ]
    },
    {
      "cell_type": "code",
      "source": [
        "accuracy_score(y_test, y_pred1)"
      ],
      "metadata": {
        "colab": {
          "base_uri": "https://localhost:8080/"
        },
        "outputId": "9f57946f-7c88-45b3-c209-5ff716aab872",
        "id": "8kS5Dzs70aZp"
      },
      "execution_count": 51,
      "outputs": [
        {
          "output_type": "execute_result",
          "data": {
            "text/plain": [
              "0.9085335542667772"
            ]
          },
          "metadata": {},
          "execution_count": 51
        }
      ]
    }
  ]
}